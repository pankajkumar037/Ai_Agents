{
 "cells": [
  {
   "cell_type": "markdown",
   "id": "055f6a62-115f-4d26-8809-2e604bddd82e",
   "metadata": {},
   "source": [
    "If you are using the pre-loaded poetry shell, you do not need to install the following package because it is already pre-loaded for you:"
   ]
  },
  {
   "cell_type": "code",
   "execution_count": 3,
   "id": "e93ed82f-d41b-4608-83d1-1053573905ff",
   "metadata": {},
   "outputs": [],
   "source": [
    "#pip install langchain-groq"
   ]
  },
  {
   "cell_type": "code",
   "execution_count": 6,
   "id": "0548e514-cf7a-4f53-8df4-b6c3d03dc696",
   "metadata": {},
   "outputs": [],
   "source": [
    "import os\n",
    "from dotenv import load_dotenv, find_dotenv\n",
    "_ = load_dotenv(find_dotenv())"
   ]
  },
  {
   "cell_type": "code",
   "execution_count": 7,
   "id": "b3e7309f-3080-4bd0-af0f-374cc642b5c0",
   "metadata": {},
   "outputs": [],
   "source": [
    "from langchain_groq import ChatGroq\n",
    "\n",
    "deepseekChatModel = ChatGroq(\n",
    "    model=\"deepseek-r1-distill-llama-70b\"\n",
    ")"
   ]
  },
  {
   "cell_type": "code",
   "execution_count": 9,
   "id": "f41aad1b-4aba-4bf4-a06d-2925a68b4828",
   "metadata": {},
   "outputs": [],
   "source": [
    "messages = [\n",
    "    (\"system\", \"You are an expert assistant.\"),\n",
    "    (\"human\", \"Tell me about Agentic AI\"),\n",
    "]"
   ]
  },
  {
   "cell_type": "code",
   "execution_count": 10,
   "id": "df753975-ebd0-49d0-bd01-56bee372eb47",
   "metadata": {},
   "outputs": [],
   "source": [
    "llamaResponse = deepseekChatModel.invoke(messages)"
   ]
  },
  {
   "cell_type": "code",
   "execution_count": 11,
   "id": "850e5967-ea3a-434a-8aed-406f29ed89aa",
   "metadata": {},
   "outputs": [
    {
     "name": "stdout",
     "output_type": "stream",
     "text": [
      "<think>\n",
      "Okay, so I'm trying to understand what Agentic AI is. I've heard the term before, but I'm not entirely sure what it means. Let me start by breaking down the words. \"Agentic\" probably relates to \"agent,\" which in AI terms usually refers to something that acts on behalf of someone or something. So maybe Agentic AI is an AI that acts as an agent?\n",
      "\n",
      "I remember from my studies that AI systems can be categorized in different ways, like reactive or deliberative. Reactive systems respond to immediate stimuli without complex reasoning, while deliberative systems plan and reason. So, if Agentic AI is a type of deliberative system, it must be more advanced, capable of planning and making decisions.\n",
      "\n",
      "I've also heard terms like Autonomous AI and Cognitive AI. Autonomous AI can operate without human intervention, making decisions based on its programming. Cognitive AI, on the other hand, involves reasoning, learning, and problem-solving. So where does Agentic AI fit in? It seems to combine aspects of both, being autonomous and cognitive, but maybe with a stronger emphasis on acting as an agent with goals.\n",
      "\n",
      "I think the key features of Agentic AI include autonomy, goal-oriented behavior, learning, reasoning, interaction, self-awareness, and ethical decision-making. Let me think about each of these. Autonomy means the AI can operate independently, making decisions without human input. Goal-oriented behavior implies that the AI has objectives it strives to achieve, which could be set by its creators or maybe even self-defined in more advanced cases.\n",
      "\n",
      "Learning and adaptation are crucial for any AI that needs to improve over time. Agentic AI would likely use machine learning to enhance its performance and adapt to new situations. Reasoning and problem-solving would allow it to handle complex tasks, maybe even ones it wasn't explicitly programmed for. Interaction with environments and humans suggests that Agentic AI isn't just a backend system but can engage with the world, perhaps through robots or user interfaces.\n",
      "\n",
      "Self-awareness is a tricky one. I'm not sure how advanced current Agentic AI systems are in this regard. Maybe it's more about the system understanding its role and capabilities rather than consciousness. Ethical decision-making is important for AI systems that have significant impacts, ensuring they operate within moral guidelines.\n",
      "\n",
      "Looking at examples, virtual assistants like Siri or Alexa are primitive forms, acting as agents to perform tasks. Autonomous vehicles are more complex, making real-time decisions. Personalized recommendation systems can be seen as agents tailoring content. Advanced versions might include AI-powered robots or personal AI assistants managing multiple aspects of a user's life.\n",
      "\n",
      "Applications seem broad. In healthcare, an Agentic AI could manage treatment plans. In finance, it could handle trading and portfolio management. Education could benefit from personalized learning agents. Smart homes could have AI managing various systems, and in robotics, these agents could perform complex tasks autonomously.\n",
      "\n",
      "Challenges include ensuring ethical behavior, avoiding bias, maintaining security, and handling human-AI collaboration. These are all important considerations as AI becomes more integrated into society. The future might see more sophisticated Agentic AI systems with better learning, reasoning, and human-like intelligence.\n",
      "\n",
      "I'm still a bit confused about how Agentic AI differs from other AI types. Is it just a subset of autonomous AI, or is it a distinct category? Also, the mention of self-awareness makes me wonder how much current systems actually possess that. Maybe it's more about the system's ability to understand its own state rather than true consciousness.\n",
      "\n",
      "Overall, Agentic AI seems to represent a more advanced form of AI that can act independently, make decisions, learn, and interact with its environment. It's a step beyond simple rule-based systems, incorporating complex reasoning and adaptation. The potential applications are vast, but so are the challenges, especially in ensuring these systems operate ethically and responsibly.\n",
      "</think>\n",
      "\n",
      "Agentic AI represents a sophisticated form of artificial intelligence that functions as an autonomous agent, capable of independent decision-making, learning, and interaction with its environment. Here's a structured overview:\n",
      "\n",
      "### Definition and Characteristics:\n",
      "- **Autonomy**: Operates independently, making decisions without human intervention.\n",
      "- **Goal-Oriented**: Strives to achieve specific objectives, which may be set by creators or self-defined.\n",
      "- **Learning and Adaptation**: Employs machine learning to improve performance and adapt to new situations.\n",
      "- **Reasoning and Problem-Solving**: Handles complex tasks, potentially beyond explicit programming.\n",
      "- **Interaction**: Engages with environments and humans, possibly through robots or interfaces.\n",
      "- **Self-Awareness**: Understands its role and capabilities, though not necessarily conscious.\n",
      "- **Ethical Decision-Making**: Operates within moral guidelines, ensuring responsible actions.\n",
      "\n",
      "### Differentiation:\n",
      "Agentic AI is a distinct category, combining aspects of autonomous and cognitive AI, with a focus on agency and goal-oriented behavior. It surpasses simple reactive systems by incorporating advanced reasoning and adaptation.\n",
      "\n",
      "### Examples and Applications:\n",
      "- **Virtual Assistants**: Like Siri or Alexa, acting as agents for task execution.\n",
      "- **Autonomous Vehicles**: Making real-time decisions for navigation.\n",
      "- **Recommendation Systems**: Personalizing content based on user data.\n",
      "- **Advanced Applications**: AI-powered robots, personalized healthcare management, financial trading, and smart home systems.\n",
      "\n",
      "### Challenges:\n",
      "- **Ethical Behavior**: Ensuring adherence to moral guidelines.\n",
      "- **Bias Avoidance**: Preventing algorithmic biases.\n",
      "- **Security**: Protecting against potential breaches.\n",
      "- **Human Collaboration**: Facilitating effective interaction with humans.\n",
      "\n",
      "### Future Prospects:\n",
      "The evolution of Agentic AI may lead to more sophisticated systems with enhanced learning, reasoning, and human-like intelligence, though ethical and responsible development remains crucial.\n",
      "\n",
      "In summary, Agentic AI is a cutting-edge technology that acts as an intelligent agent, offering vast potential across various domains while presenting significant challenges that must be addressed.\n"
     ]
    }
   ],
   "source": [
    "print(llamaResponse.content)"
   ]
  },
  {
   "cell_type": "markdown",
   "id": "4c70e41d-5a7a-4831-a1be-978ccaceda07",
   "metadata": {},
   "source": [
    "## How to execute the code from Visual Studio Code\n",
    "* In Visual Studio Code, see the file 002-trying-different-llm-models.py\n",
    "* In terminal, make sure you are in the directory of the file and run:\n",
    "    * python 002-trying-different-llm-models.py"
   ]
  },
  {
   "cell_type": "code",
   "execution_count": null,
   "id": "b47d77fd-c1ee-4e13-9219-7b5d16069f52",
   "metadata": {},
   "outputs": [],
   "source": []
  }
 ],
 "metadata": {
  "kernelspec": {
   "display_name": "llmapp",
   "language": "python",
   "name": "python3"
  },
  "language_info": {
   "codemirror_mode": {
    "name": "ipython",
    "version": 3
   },
   "file_extension": ".py",
   "mimetype": "text/x-python",
   "name": "python",
   "nbconvert_exporter": "python",
   "pygments_lexer": "ipython3",
   "version": "3.11.11"
  }
 },
 "nbformat": 4,
 "nbformat_minor": 5
}
