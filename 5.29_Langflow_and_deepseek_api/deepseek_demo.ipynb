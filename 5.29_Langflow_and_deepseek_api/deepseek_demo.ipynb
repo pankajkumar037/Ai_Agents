{
  "nbformat": 4,
  "nbformat_minor": 0,
  "metadata": {
    "colab": {
      "provenance": []
    },
    "kernelspec": {
      "name": "python3",
      "display_name": "Python 3"
    },
    "language_info": {
      "name": "python"
    }
  },
  "cells": [
    {
      "cell_type": "code",
      "source": [
        "!pip install groq"
      ],
      "metadata": {
        "colab": {
          "base_uri": "https://localhost:8080/"
        },
        "id": "GqymQ3OFwFce",
        "outputId": "b41156c0-469e-41a2-9021-709ee2126283"
      },
      "execution_count": null,
      "outputs": [
        {
          "output_type": "stream",
          "name": "stdout",
          "text": [
            "Collecting groq\n",
            "  Downloading groq-0.15.0-py3-none-any.whl.metadata (14 kB)\n",
            "Requirement already satisfied: anyio<5,>=3.5.0 in /usr/local/lib/python3.11/dist-packages (from groq) (3.7.1)\n",
            "Requirement already satisfied: distro<2,>=1.7.0 in /usr/local/lib/python3.11/dist-packages (from groq) (1.9.0)\n",
            "Requirement already satisfied: httpx<1,>=0.23.0 in /usr/local/lib/python3.11/dist-packages (from groq) (0.28.1)\n",
            "Requirement already satisfied: pydantic<3,>=1.9.0 in /usr/local/lib/python3.11/dist-packages (from groq) (2.10.6)\n",
            "Requirement already satisfied: sniffio in /usr/local/lib/python3.11/dist-packages (from groq) (1.3.1)\n",
            "Requirement already satisfied: typing-extensions<5,>=4.10 in /usr/local/lib/python3.11/dist-packages (from groq) (4.12.2)\n",
            "Requirement already satisfied: idna>=2.8 in /usr/local/lib/python3.11/dist-packages (from anyio<5,>=3.5.0->groq) (3.10)\n",
            "Requirement already satisfied: certifi in /usr/local/lib/python3.11/dist-packages (from httpx<1,>=0.23.0->groq) (2024.12.14)\n",
            "Requirement already satisfied: httpcore==1.* in /usr/local/lib/python3.11/dist-packages (from httpx<1,>=0.23.0->groq) (1.0.7)\n",
            "Requirement already satisfied: h11<0.15,>=0.13 in /usr/local/lib/python3.11/dist-packages (from httpcore==1.*->httpx<1,>=0.23.0->groq) (0.14.0)\n",
            "Requirement already satisfied: annotated-types>=0.6.0 in /usr/local/lib/python3.11/dist-packages (from pydantic<3,>=1.9.0->groq) (0.7.0)\n",
            "Requirement already satisfied: pydantic-core==2.27.2 in /usr/local/lib/python3.11/dist-packages (from pydantic<3,>=1.9.0->groq) (2.27.2)\n",
            "Downloading groq-0.15.0-py3-none-any.whl (109 kB)\n",
            "\u001b[2K   \u001b[90m━━━━━━━━━━━━━━━━━━━━━━━━━━━━━━━━━━━━━━━━\u001b[0m \u001b[32m109.6/109.6 kB\u001b[0m \u001b[31m2.5 MB/s\u001b[0m eta \u001b[36m0:00:00\u001b[0m\n",
            "\u001b[?25hInstalling collected packages: groq\n",
            "Successfully installed groq-0.15.0\n"
          ]
        }
      ]
    },
    {
      "cell_type": "code",
      "execution_count": null,
      "metadata": {
        "id": "fbyCvimAvn1i"
      },
      "outputs": [],
      "source": [
        "from groq import Groq"
      ]
    },
    {
      "cell_type": "code",
      "source": [
        "client = Groq(api_key=\"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\")"
      ],
      "metadata": {
        "id": "dfN2b_ZewN_V"
      },
      "execution_count": null,
      "outputs": []
    },
    {
      "cell_type": "code",
      "source": [
        "user_input = \"Tell me about Agentic AI\""
      ],
      "metadata": {
        "id": "qiyUOinnwp_F"
      },
      "execution_count": null,
      "outputs": []
    },
    {
      "cell_type": "code",
      "source": [
        "completion = client.chat.completions.create(\n",
        "    model = \"deepseek-r1-distill-llama-70b\",\n",
        "    messages =[\n",
        "        {\n",
        "            \"role\": \"user\",\n",
        "            \"content\": user_input\n",
        "        }\n",
        "    ],\n",
        "    temperature= 0.6,\n",
        "    max_completion_tokens=4096,\n",
        "    stream=True,\n",
        "    stop=None\n",
        "\n",
        ")\n",
        "\n",
        "\n",
        "for chunk in completion:\n",
        "    print(chunk.choices[0].delta.content or \"\", end=\"\")"
      ],
      "metadata": {
        "colab": {
          "base_uri": "https://localhost:8080/"
        },
        "id": "5N-Aif9EwWv9",
        "outputId": "25413b36-9d48-44a0-efd4-09cbe6746801"
      },
      "execution_count": null,
      "outputs": [
        {
          "output_type": "stream",
          "name": "stdout",
          "text": [
            "<think>\n",
            "\n",
            "</think>\n",
            "\n",
            "Agentic AI refers to a type of artificial intelligence that is designed to act autonomously on behalf of a user, organization, or system. Unlike traditional AI systems that perform specific, predetermined tasks, agentic AI is characterized by its ability to make decisions, adapt to changing conditions, and interact with its environment in a more human-like way. These AI agents are typically equipped with advanced capabilities such as learning, reasoning, and problem-solving, enabling them to handle complex tasks and dynamic situations.\n",
            "\n",
            "### Key Characteristics of Agentic AI:\n",
            "1. **Autonomy**: Agentic AI operates independently, making decisions without direct human intervention. It can perceive its environment, analyze data, and take actions to achieve specific goals.\n",
            "2. **Goal-Oriented**: These AI systems are designed to pursue and achieve specific objectives, whether set by users or defined by their programming.\n",
            "3. **Learning and Adaptation**: Agentic AI can learn from experience, adapt to new information, and improve its performance over time, often using machine learning techniques.\n",
            "4. **Interaction and Communication**: They can interact with humans, other systems, and even other AI agents to gather information, coordinate actions, or provide results.\n",
            "5. **Reasoning and Problem-Solving**: Agentic AI can analyze situations, evaluate options, and make informed decisions, often in complex or uncertain environments.\n",
            "\n",
            "### Applications of Agentic AI:\n",
            "- **Virtual Assistants**: AI agents like Siri, Alexa, and Google Assistant act on behalf of users to perform tasks, provide information, and manage schedules.\n",
            "- **Autonomous Vehicles**: Self-driving cars use agentic AI to navigate, make real-time decisions, and ensure safety.\n",
            "- **Smart Homes and IoT**: AI agents manage and optimize home automation systems, adjusting settings based on user preferences and environmental conditions.\n",
            "- **Healthcare**: AI agents can assist in diagnosing diseases, managing patient care, and optimizing treatment plans.\n",
            "- **Finance**: Agentic AI can trade stocks, manage portfolios, and detect fraudulent activities in real-time.\n",
            "\n",
            "### Challenges and Considerations:\n",
            "- **Ethics and Trust**: As agentic AI makes autonomous decisions, ensuring transparency, accountability, and ethical behavior is crucial.\n",
            "- **Safety and Security**: Ensuring that these systems operate safely and securely, especially in critical domains like healthcare and transportation, is a significant challenge.\n",
            "- **Legal and Regulatory Issues**: The autonomous nature of agentic AI raises questions about liability, responsibility, and compliance with existing laws.\n",
            "- **Human-AI Collaboration**: Designing systems that can effectively collaborate with humans while maintaining user trust and understanding is an ongoing research area.\n",
            "\n",
            "Agentic AI represents a significant advancement in artificial intelligence, moving beyond narrow, task-oriented systems to more sophisticated, autonomous agents capable of complex interactions and decision-making. As the technology continues to evolve, it has the potential to transform numerous industries and aspects of daily life."
          ]
        }
      ]
    }
  ]
}