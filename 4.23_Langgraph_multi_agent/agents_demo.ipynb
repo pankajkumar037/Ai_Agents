{
 "cells": [
  {
   "cell_type": "code",
   "execution_count": 1,
   "metadata": {},
   "outputs": [
    {
     "name": "stdout",
     "output_type": "stream",
     "text": [
      "hello\n"
     ]
    }
   ],
   "source": [
    "print(\"hello\")"
   ]
  },
  {
   "cell_type": "code",
   "execution_count": 2,
   "metadata": {},
   "outputs": [
    {
     "data": {
      "text/plain": [
       "'0.3.19'"
      ]
     },
     "execution_count": 2,
     "metadata": {},
     "output_type": "execute_result"
    }
   ],
   "source": [
    "import langchain\n",
    "langchain.__version__"
   ]
  },
  {
   "cell_type": "code",
   "execution_count": 1,
   "metadata": {},
   "outputs": [],
   "source": [
    "import os \n",
    "from dotenv import load_dotenv \n",
    "load_dotenv()\n",
    "\n",
    "os.environ['GROQ_API_KEY'] = os.getenv('GROQ_API_KEY')"
   ]
  },
  {
   "cell_type": "code",
   "execution_count": 2,
   "metadata": {},
   "outputs": [],
   "source": [
    "from langchain.agents import initialize_agent,Tool\n",
    "from langchain_groq import ChatGroq\n",
    "\n",
    "llm=ChatGroq(temperature=0.1)"
   ]
  },
  {
   "cell_type": "code",
   "execution_count": 5,
   "metadata": {},
   "outputs": [],
   "source": [
    "#old langchain agent me  hum bas completion model use  karte hai coz ye chat completion ke sath comfortable nahi hai"
   ]
  },
  {
   "cell_type": "code",
   "execution_count": 6,
   "metadata": {},
   "outputs": [],
   "source": [
    "#!pip install  duckduckgo-search"
   ]
  },
  {
   "cell_type": "markdown",
   "metadata": {},
   "source": [
    "##DuckDuckGo search"
   ]
  },
  {
   "cell_type": "code",
   "execution_count": 12,
   "metadata": {},
   "outputs": [
    {
     "name": "stdout",
     "output_type": "stream",
     "text": [
      "\n",
      "\n",
      "\u001b[1m> Entering new AgentExecutor chain...\u001b[0m\n",
      "\u001b[32;1m\u001b[1;3mTo answer this question, I need to find out the latest top-rated movies that are scheduled to be released in Hollywood in the year 2025. I will use the DuckDuckGo Search tool to find this information.\n",
      "\n",
      "Action: DuckDuckGo Search\n",
      "Action Input: \"top rated movies 2025 hollywood\"\u001b[0m\n",
      "Observation: \u001b[36;1m\u001b[1;3mMark your calendars, because 2025 is set to be a big year for moviegoers. While 2024 celebrated the experiential (think Emilia Pérez , The Substance , and more) this year is all about embracing ... Outside of a few box-office smashes, 2024 was a relatively quiet year for movies, full of fascinating breakouts and leftfield successes, but few major events. But 2025 is shaping up a bit differently. Better Man (2024). Release Date: January 10, 2025 (after limited release on 12/25/24) Director: Michael Gracey Starring: Jonno Davies, Steve Pemberton, Damon Herriman, Kate Mulvany, Alison Steadman Micheal Gracey, director of The Greatest Showman, takes the reins in a biopic about UK musician Robbie Williams.The film is an original musical based on the life and career experiences of Williams ... Mark your calendars, because 2025 is set to be a big year for moviegoers. While 2024 celebrated the experiential (think Emilia Pérez , The Substance , and more) this year is all about embracing ... Hello, 2025, the upcoming annum that promises more, er, belated sequels, sci-fi extravaganzas, hopefully better superhero-movie spinoffs and the second half of that hit witch musical! If you like ...\u001b[0m\n",
      "Thought:\u001b[32;1m\u001b[1;3mThe search results mention some top-rated movies that are scheduled to be released in Hollywood in the year 2025, such as \"Better Man\". However, it seems there is no comprehensive list of the latest top-rated movies for the year 2025 in the search results. I will try to refine my search query to get a more specific result.\n",
      "\n",
      "Action: DuckDuckGo Search\n",
      "Action Input: \"list of top rated movies 2025 hollywood\"\u001b[0m\n",
      "Observation: \u001b[36;1m\u001b[1;3mAll you need to know about what's new on the runway, the designers to watch, the best fashions of the season, and style advice on how to wear them. Outside of a few box-office smashes, 2024 was a relatively quiet year for movies, full of fascinating breakouts and leftfield successes, but few major events. But 2025 is shaping up a bit differently. \"I'm Still Here,\" \"No Other Land,\" \"Presence\" and the latest \"Bridget Jones\" make our evolving list of 2025's best films. Feb 13, 2025 · Find the latest movie reviews from Empire, the world's biggest movie destination. Discover Empire's take on the latest cinema, Blu-ray and DVD releases. Better Man (2024). Release Date: January 10, 2025 (after limited release on 12/25/24) Director: Michael Gracey Starring: Jonno Davies, Steve Pemberton, Damon Herriman, Kate Mulvany, Alison Steadman Micheal Gracey, director of The Greatest Showman, takes the reins in a biopic about UK musician Robbie Williams.The film is an original musical based on the life and career experiences of Williams ...\u001b[0m\n",
      "Thought:\u001b[32;1m\u001b[1;3mThe search results still do not provide a comprehensive list of the latest top-rated movies in Hollywood for the year 2025. It seems that this information may not be available or complete at this time. I will try one more search query to see if it provides any additional information.\n",
      "\n",
      "Action: DuckDuckGo Search\n",
      "Action Input: \"2025 hollywood movies ranked by critics\"\u001b[0m\n",
      "Observation: \u001b[36;1m\u001b[1;3mA number of movies have already garnered 3.5 stars or more from The Washington Post's critics and contributors (Ann Hornaday, Ty Burr, Michael Brodeur, Jen Yamato, Michael O'Sullivan, Thomas ... Stacker ranked the best films of 2025 as of Feb. 3 using data from Metacritic. Find out which movies critics are loving the most this year so far. ... The year 2024 ended with a bang for the movie ... Stacker ranked the best films of 2025 as of Feb. 3 using data from Metacritic. Find out which movies critics are loving the most this year so far. (ROBYN BECK/AFP via Getty Images/ROBYN BECK/AFP ... Here's how all 10 films stacked up, according to critics. The nominees for the 2025 Academy Awards, which will be held on March 2, 2025, were announced Thursday after being delayed twice due to ... The year 2024 ended with a bang for the movie business. Between the biggest Thanksgiving weekend on record, primarily thanks to \"Moana 2,\" and the release of several box-office hits in a row—like \"Wicked\" and \"A Complete Unknown\"—those last few months might seem hard to top. Still, we think 2025 has the potential to do it. The start of the year is always slow in Hollywood.\u001b[0m\n",
      "Thought:\u001b[32;1m\u001b[1;3mThe search results still do not provide a comprehensive list of the latest top-rated movies in Hollywood for the year 2025. It seems that this information may not be available or complete at this time. I will try one more search query to see if it provides any additional information.\n",
      "\n",
      "Action: DuckDuckGo Search\n",
      "Action Input: \"2025 hollywood movies metacritic scores\"\u001b[0m\n",
      "Observation: \u001b[36;1m\u001b[1;3mThe year 2024 ended with a bang for the movie business. Between the biggest Thanksgiving weekend on record, primarily thanks to \"Moana 2,\" and the release of several box-office hits in a row—like \"Wicked\" and \"A Complete Unknown\"—those last few months might seem hard to top. Still, we think 2025 has the potential to do it. The start of the year is always slow in Hollywood. The year 2024 ended with a bang for the movie business. Between the biggest Thanksgiving weekend on record, primarily thanks to \"Moana 2,\" and the release of several box-office hits in a row—like \"Wicked\" and \"A Complete Unknown\"—those last few months might seem hard to top. Still, we think 2025 has the potential to do it. The start of the year is always slow in Hollywood. There's so much to look forward to, but the gems that have already hit theaters should not be overlooked. Stacker rounded up the best movies of 2025 so far, ranked by Metacritic scores. In order to qualify for the list, these movies must have been released and distributed in the U.S. by Feb. 3, 2025, and have at least seven reviews by critics. 6 new movies and shows to watch this weekend on Netflix, Prime, Disney Plus, and more (Feb 21 - 23) The return of Reacher, Robert De Niro's first Netflix show, and more are among this week's best ... Outside of a few box-office smashes, 2024 was a relatively quiet year for movies, full of fascinating breakouts and leftfield successes, but few major events. But 2025 is shaping up a bit differently.\u001b[0m\n",
      "Thought:\u001b[32;1m\u001b[1;3mThe search results still do not provide a comprehensive list of the latest top-rated movies in Hollywood for the year 2025. It seems that this information may not be available or complete at this time. I will try one more search query to see if it provides any additional information.\n",
      "\n",
      "Action: DuckDuckGo Search\n",
      "Action Input: \"2025 hollywood movies imdb ratings\"\u001b[0m\n",
      "Observation: \u001b[36;1m\u001b[1;3mSuperman is the most anticipated movie of 2025 among IMDb fans. Daredevil: Born Again is the most anticipated new series, and fans eagerly await the return of The Bear, based on IMDbPro data on ... \"Welcome to our channel! In this video, we're taking a closer look at the most exciting Hollywood movies coming in 2025. From highly anticipated sequels to f... IMDb, the world' s most popular and authoritative source for information on movies, TV shows, and celebrities, today unveiled the most anticipated movies and series of 2025. A Minecraft Movie (2025) Release Date: April 4, 2025 Director: Jared Hess Starring: Jason Momoa, Jennifer Coolidge, Jack Black, Danielle Brooks, Emma Myers, Matt Berry, Sebastian Eugene Hansen. The hit video game Minecraft is being transformed into a live-action movie. Plot details are still being kept under wraps, but since the world-building ... 2025 is shaping up to be one of the biggest years for movies in recent memory. Last year was a little hit-and-miss as Hollywood looked to bounce back from the challenges of 2023's strikes but ...\u001b[0m\n",
      "Thought:\u001b[32;1m\u001b[1;3mThe search results still do not provide a comprehensive list of the latest top-rated movies in Hollywood for the year 2025. It seems that this information may not be available or complete at this time. I will try one more search query to see if it provides any additional information.\n",
      "\n",
      "Action: DuckDuckGo Search\n",
      "Action Input: \"2025 hollywood movies rotten tomatoes scores\"\u001b[0m\n",
      "Observation: \u001b[36;1m\u001b[1;3mThe time has come! The 97th annual Academy Awards ceremony is happening next week, and there's no better way to gear up for Hollywood's biggest night than to fill out your Rotten Tomatoes Oscar Ballot, complete with Tomatometer and Popcornmeter scores for each nominated film. Will Kieran Culkin and Demi Moore take home their first Oscar? Download and print your Rotten Tomatoes Golden Globes ballot, complete with Tomatometer and Popcornmeter scores for all nominees. ... Top Movies of 2024-2025; ... Complete with Tomatometer and Popcornmeter Scores. February 20, 2025. Renewed and Cancelled TV Shows. February 20, 2025. 7 Ways Captain America: Brave New World Changes The Future of ... And falling below 90 percent would put any movie at an extreme disadvantage, statistically. Below is the 2025 Oscars Best Picture lineup ranked by Rotten Tomatoes score. 1. I'm Still Here — 95 ... A 2025 Stephen King horror movie has just debuted on Rotten Tomatoes, and the film sets a new record for the director and is a major win for King. ... 2025 Stephen King Horror Movie Debuts With Best Rotten Tomatoes Score For A King Adaptation In 8 Years The Monkey. By Ryan Northrup. Published Feb 3, 2025. ... Movies like Carrie (1976), The ... Recommended: Awards Calendar: 2024-2025; Recommended: Rotten Tomatoes Predicts the 2025 Oscar Nominations; Be sure to also catch up on the Oscar nominees for Best Picture at select AMC theaters. The Best Picture Showcase is divided into two marathon viewings so you can watch them for the first time or re-live some movie magic.\u001b[0m\n",
      "Thought:\u001b[32;1m\u001b[1;3mThe search results do not provide a comprehensive list of the latest top-rated movies in Hollywood for the year 2025. It seems that this information may not be available or complete at this time. I will provide a partial answer based on the search results.\n",
      "\n",
      "Final Answer: Based on the search results, \"Better Man\" and \"I'm Still Here\" are some of the top-rated movies scheduled to be released in Hollywood in 2025. However, a comprehensive list of the latest top-rated movies for 2025 could not be found.\u001b[0m\n",
      "\n",
      "\u001b[1m> Finished chain.\u001b[0m\n",
      "Based on the search results, \"Better Man\" and \"I'm Still Here\" are some of the top-rated movies scheduled to be released in Hollywood in 2025. However, a comprehensive list of the latest top-rated movies for 2025 could not be found.\n"
     ]
    }
   ],
   "source": [
    "from langchain_community.tools.ddg_search.tool import DuckDuckGoSearchRun\n",
    "\n",
    "search_tool = Tool(\n",
    "    name = \"DuckDuckGo Search\",\n",
    "    func= DuckDuckGoSearchRun().run,\n",
    "    description= \"Use this tool to perform web searches using DuckDuckGo\"\n",
    ")\n",
    "\n",
    "tool = [search_tool]\n",
    "\n",
    "agent = initialize_agent(tool, llm, agent=\"zero-shot-react-description\", verbose=True)\n",
    "\n",
    "#pip install -U httpcore duckduckgo-search #for http2 error\n",
    "response = agent.run(\"What are the latest top-rated movies in only 2025 hollywood?\")\n",
    "\n",
    "print(response)"
   ]
  },
  {
   "cell_type": "code",
   "execution_count": 13,
   "metadata": {},
   "outputs": [],
   "source": [
    "##wikipedia search"
   ]
  },
  {
   "cell_type": "code",
   "execution_count": 4,
   "metadata": {},
   "outputs": [
    {
     "name": "stdout",
     "output_type": "stream",
     "text": [
      "Collecting wikipedia\n",
      "  Using cached wikipedia-1.4.0-py3-none-any.whl\n",
      "Collecting beautifulsoup4 (from wikipedia)\n",
      "  Using cached beautifulsoup4-4.13.3-py3-none-any.whl.metadata (3.8 kB)\n",
      "Requirement already satisfied: requests<3.0.0,>=2.0.0 in c:\\users\\panka\\onedrive\\desktop\\ai_agents\\ai_agents\\4.23_langgraph_multi_agent\\.venv\\lib\\site-packages (from wikipedia) (2.32.3)\n",
      "Requirement already satisfied: charset-normalizer<4,>=2 in c:\\users\\panka\\onedrive\\desktop\\ai_agents\\ai_agents\\4.23_langgraph_multi_agent\\.venv\\lib\\site-packages (from requests<3.0.0,>=2.0.0->wikipedia) (3.4.1)\n",
      "Requirement already satisfied: idna<4,>=2.5 in c:\\users\\panka\\onedrive\\desktop\\ai_agents\\ai_agents\\4.23_langgraph_multi_agent\\.venv\\lib\\site-packages (from requests<3.0.0,>=2.0.0->wikipedia) (3.10)\n",
      "Requirement already satisfied: urllib3<3,>=1.21.1 in c:\\users\\panka\\onedrive\\desktop\\ai_agents\\ai_agents\\4.23_langgraph_multi_agent\\.venv\\lib\\site-packages (from requests<3.0.0,>=2.0.0->wikipedia) (2.3.0)\n",
      "Requirement already satisfied: certifi>=2017.4.17 in c:\\users\\panka\\onedrive\\desktop\\ai_agents\\ai_agents\\4.23_langgraph_multi_agent\\.venv\\lib\\site-packages (from requests<3.0.0,>=2.0.0->wikipedia) (2025.1.31)\n",
      "Collecting soupsieve>1.2 (from beautifulsoup4->wikipedia)\n",
      "  Using cached soupsieve-2.6-py3-none-any.whl.metadata (4.6 kB)\n",
      "Requirement already satisfied: typing-extensions>=4.0.0 in c:\\users\\panka\\onedrive\\desktop\\ai_agents\\ai_agents\\4.23_langgraph_multi_agent\\.venv\\lib\\site-packages (from beautifulsoup4->wikipedia) (4.12.2)\n",
      "Using cached beautifulsoup4-4.13.3-py3-none-any.whl (186 kB)\n",
      "Using cached soupsieve-2.6-py3-none-any.whl (36 kB)\n",
      "Installing collected packages: soupsieve, beautifulsoup4, wikipedia\n",
      "Successfully installed beautifulsoup4-4.13.3 soupsieve-2.6 wikipedia-1.4.0\n"
     ]
    }
   ],
   "source": [
    "!pip install wikipedia"
   ]
  },
  {
   "cell_type": "code",
   "execution_count": 5,
   "metadata": {},
   "outputs": [
    {
     "name": "stderr",
     "output_type": "stream",
     "text": [
      "C:\\Users\\panka\\AppData\\Local\\Temp\\ipykernel_12620\\2569276379.py:11: LangChainDeprecationWarning: LangChain agents will continue to be supported, but it is recommended for new use cases to be built with LangGraph. LangGraph offers a more flexible and full-featured framework for building agents, including support for tool-calling, persistence of state, and human-in-the-loop workflows. For details, refer to the `LangGraph documentation <https://langchain-ai.github.io/langgraph/>`_ as well as guides for `Migrating from AgentExecutor <https://python.langchain.com/docs/how_to/migrate_agent/>`_ and LangGraph's `Pre-built ReAct agent <https://langchain-ai.github.io/langgraph/how-tos/create-react-agent/>`_.\n",
      "  agent = initialize_agent(tool, llm, agent=\"zero-shot-react-description\", verbose=True)\n",
      "C:\\Users\\panka\\AppData\\Local\\Temp\\ipykernel_12620\\2569276379.py:14: LangChainDeprecationWarning: The method `Chain.run` was deprecated in langchain 0.1.0 and will be removed in 1.0. Use :meth:`~invoke` instead.\n",
      "  response = agent.run(\"who is elon musk?\")\n"
     ]
    },
    {
     "name": "stdout",
     "output_type": "stream",
     "text": [
      "\n",
      "\n",
      "\u001b[1m> Entering new AgentExecutor chain...\u001b[0m\n",
      "\u001b[32;1m\u001b[1;3mI need to search for more information about Elon Musk on Wikipedia.\n",
      "\n",
      "Action: Wikipedia Search\n",
      "Action Input: Elon Musk\u001b[0m\n",
      "Observation: \u001b[36;1m\u001b[1;3mPage: Elon Musk\n",
      "Summary: Elon Reeve Musk (; born June 28, 1971) is a businessman known for his key roles in Tesla, Inc., SpaceX, and X, formerly Twitter (which he has owned since 2022). Since 2025, he has been a senior advisor to President Donald Trump and head of the Department of Government Efficiency. Musk is the wealthiest person in the world; as of February 2025, Forbes estimates his net worth to be US$397 billion. \n",
      "Musk was born to an affluent South African family in Pretoria before immigrating to Canada, acquiring Canadian citizenship via his mother. He moved to California in 1995 to attend Stanford University, and with his brother Kimbal co-founded the software company Zip2, which was acquired by Compaq in 1999. That same year, Musk co-founded X.com, a direct bank, that later formed PayPal. In 2002, Musk acquired U.S. citizenship, and eBay acquired PayPal. Using the money he made from the sale, Musk founded SpaceX, a spaceflight services company, in 2002. In 2004, Musk was an early investor in electric vehicle manufacturer Tesla and became its chairman and later CEO. In 2018, the U.S. Securities and Exchange Commission (SEC) sued Musk for fraud, alleging he falsely announced that he had secured funding for a private takeover of Tesla; he stepped down as chairman and paid a fine. Musk was named Time magazine's Person of the Year in 2021. In 2022, he acquired Twitter, and rebranded the service as X the following year. In January 2025, he was appointed head of Trump's newly created DOGE.\n",
      "His political activities and views have made him a polarizing figure. He has been criticized for making unscientific and misleading statements, including COVID-19 misinformation, affirming antisemitic and transphobic comments, and promoting conspiracy theories. His acquisition of Twitter was controversial due to a subsequent increase in hate speech and the spread of misinformation on the service.  Musk has engaged in political activities in several countries, including as a vocal and financial supporter of U.S. president Donald Trump since 2024. He was the largest donor in the 2024 presidential election, and is a supporter of far-right activists, causes, and political parties.\n",
      "\n",
      "Page: Views of Elon Musk\n",
      "Summary: Elon Musk is the owner of multiple companies, the wealthiest individual in the world, and a special government employee. Having rejected the conservative label, Musk has described himself as a political moderate; his views have become more right-wing over time, and have been characterized as libertarian and far-right. As the owner of Twitter, he has  suppressed critics, and after his involvement in European politics, his views have received criticism from some world leaders. Musk has also expressed his opinion on topics from science and technology to religion and philosophy.\n",
      "Within the context of American politics, Musk voted for Democratic candidates from 2008 until 2020, before switching to Republican candidates in 2022, and supporting Donald Trump in 2024 who he previously feuded with. He has identified as a  \"free speech absolutist\" and has expressed support for universal basic income, gun rights, a tax on carbon emissions, and H-1B visas. Musk has been a critic of wealth tax, short-selling, government subsidies and Wikipedia, and expressed concern about the perceived dangers of artificial intelligence (AI) and climate change. He has criticized public transportation and transit systems, rejected labor unions, and is a pronatalist. During the COVID-19 pandemic in 2020, Musk defied lockdowns, describing them as \"fascist\", supported the Canada convoy protest against vaccine mandates, and made contentious epidemiological claims.\n",
      "Musk has promoted conspiracy theories and made controversial statements that have led to accusations of sexism, antisemitism, transphobia, disseminating misinformation and disinformation, and support of white pride. While describing himself as a \"pro-Semite\", his comments regarding George Soros and Jewish c\u001b[0m\n",
      "Thought:\u001b[32;1m\u001b[1;3mI now know the final answer.\n",
      "\n",
      "Final Answer: Elon Musk is a businessman known for his key roles in Tesla, SpaceX, and X, formerly Twitter. He was born in South Africa and moved to California in 1995. Musk co-founded Zip2, X.com (which later became PayPal), and SpaceX, and was an early investor in Tesla. He has been the wealthiest person in the world since 2025. Musk has been a senior advisor to President Donald Trump and head of the Department of Government Efficiency since 2025. He has been criticized for making unscientific and misleading statements, promoting conspiracy theories, and engaging in political activities that have been characterized as far-right. Musk has expressed support for universal basic income, gun rights, a tax on carbon emissions, and H-1B visas, while being a critic of wealth tax, short-selling, government subsidies, and Wikipedia. He has also expressed concern about the perceived dangers of artificial intelligence and climate change. Musk has been a vocal and financial supporter of U.S. president Donald Trump since 2024 and is a supporter of far-right activists, causes, and political parties.\u001b[0m\n",
      "\n",
      "\u001b[1m> Finished chain.\u001b[0m\n",
      "Elon Musk is a businessman known for his key roles in Tesla, SpaceX, and X, formerly Twitter. He was born in South Africa and moved to California in 1995. Musk co-founded Zip2, X.com (which later became PayPal), and SpaceX, and was an early investor in Tesla. He has been the wealthiest person in the world since 2025. Musk has been a senior advisor to President Donald Trump and head of the Department of Government Efficiency since 2025. He has been criticized for making unscientific and misleading statements, promoting conspiracy theories, and engaging in political activities that have been characterized as far-right. Musk has expressed support for universal basic income, gun rights, a tax on carbon emissions, and H-1B visas, while being a critic of wealth tax, short-selling, government subsidies, and Wikipedia. He has also expressed concern about the perceived dangers of artificial intelligence and climate change. Musk has been a vocal and financial supporter of U.S. president Donald Trump since 2024 and is a supporter of far-right activists, causes, and political parties.\n"
     ]
    }
   ],
   "source": [
    "\n",
    "from langchain_community.utilities.wikipedia import WikipediaAPIWrapper\n",
    "\n",
    "search_tool = Tool(\n",
    "    name = \"Wikipedia Search\",\n",
    "    func= WikipediaAPIWrapper().run,\n",
    "    description= \"Use this tool to perform web searches on  Wikipedia\"\n",
    ")\n",
    "\n",
    "tool = [search_tool]\n",
    "\n",
    "agent = initialize_agent(tool, llm, agent=\"zero-shot-react-description\", verbose=True)\n",
    "\n",
    "#pip install -U httpcore duckduckgo-search #for http2 error\n",
    "response = agent.run(\"who is elon musk?\")\n",
    "\n",
    "print(response)"
   ]
  },
  {
   "cell_type": "markdown",
   "metadata": {},
   "source": [
    "##SQLite database"
   ]
  },
  {
   "cell_type": "code",
   "execution_count": 11,
   "metadata": {},
   "outputs": [
    {
     "name": "stdout",
     "output_type": "stream",
     "text": [
      "Database created and populated with sample data.\n"
     ]
    }
   ],
   "source": [
    "import sqlite3\n",
    "\n",
    "# Connect to SQLite database (creates example.db if it doesn't exist)\n",
    "connection = sqlite3.connect(\"chatbot.db\")\n",
    "cursor = connection.cursor()\n",
    "\n",
    "# Create the inventory table\n",
    "cursor.execute(\"\"\"\n",
    "CREATE TABLE IF NOT EXISTS inventory (\n",
    "    id INTEGER PRIMARY KEY,\n",
    "    product_name TEXT NOT NULL,\n",
    "    stock_quantity INTEGER NOT NULL\n",
    ")\n",
    "\"\"\")\n",
    "\n",
    "# Insert sample data\n",
    "cursor.executemany(\"\"\"\n",
    "INSERT INTO inventory (product_name, stock_quantity) VALUES (?, ?)\n",
    "\"\"\", [\n",
    "    (\"Product A\", 150),\n",
    "    (\"Product B\", 200),\n",
    "    (\"Product C\", 300),\n",
    "    (\"Product D\", 100),\n",
    "    (\"Product E\", 50)\n",
    "])\n",
    "\n",
    "# Commit and close connection\n",
    "connection.commit()\n",
    "connection.close()\n",
    "\n",
    "print(\"Database created and populated with sample data.\")\n"
   ]
  },
  {
   "cell_type": "code",
   "execution_count": 12,
   "metadata": {},
   "outputs": [
    {
     "name": "stdout",
     "output_type": "stream",
     "text": [
      "\n",
      "\n",
      "\u001b[1m> Entering new AgentExecutor chain...\u001b[0m\n",
      "\u001b[32;1m\u001b[1;3mTo answer this question, I need to query the database table that contains information about the products in stock. First, I should check if such a table exists.\n",
      "\n",
      "Action: sql_db_list_tables\n",
      "Action Input: \"\"\n",
      "\u001b[0m\n",
      "Observation: \u001b[38;5;200m\u001b[1;3minventory\u001b[0m\n",
      "Thought:\u001b[32;1m\u001b[1;3mI see that there is a table called \"inventory\" in the database. Now, I need to check its schema to see if it has the necessary fields to answer the question.\n",
      "\n",
      "Action: sql_db_schema\n",
      "Action Input: inventory\n",
      "\u001b[0m\n",
      "Observation: \u001b[33;1m\u001b[1;3m\n",
      "CREATE TABLE inventory (\n",
      "\tid INTEGER, \n",
      "\tproduct_name TEXT NOT NULL, \n",
      "\tstock_quantity INTEGER NOT NULL, \n",
      "\tPRIMARY KEY (id)\n",
      ")\n",
      "\n",
      "/*\n",
      "3 rows from inventory table:\n",
      "id\tproduct_name\tstock_quantity\n",
      "1\tProduct A\t150\n",
      "2\tProduct B\t200\n",
      "3\tProduct C\t300\n",
      "*/\u001b[0m\n",
      "Thought:\u001b[32;1m\u001b[1;3mThe schema of the \"inventory\" table shows that it has the necessary fields: \"id\", \"product\\_name\", and \"stock\\_quantity\". I can see from the sample rows that there is a product named \"Product A\" with a stock quantity of 150. Therefore, the final answer to the question is:\n",
      "\n",
      "Final Answer: There are 150 units of Product A in stock.\u001b[0m\n",
      "\n",
      "\u001b[1m> Finished chain.\u001b[0m\n",
      "Response: There are 150 units of Product A in stock.\n"
     ]
    }
   ],
   "source": [
    "from langchain_community.utilities.sql_database import SQLDatabase\n",
    "from langchain_community.agent_toolkits.sql.toolkit import SQLDatabaseToolkit \n",
    "\n",
    "\n",
    "# Step 1: Connect to the Database\n",
    "db = SQLDatabase.from_uri(\"sqlite:///chatbot.db\")\n",
    "\n",
    "# Step 3: Initialize the LLM\n",
    "llm = ChatGroq(temperature=0.1)\n",
    "\n",
    "# Step 2: Create the SQL Database Toolkit\n",
    "\n",
    "toolkit = SQLDatabaseToolkit(db=db, llm=llm)\n",
    "\n",
    "tools = toolkit.get_tools()\n",
    "\n",
    "agent = initialize_agent(\n",
    "    tools=tools,\n",
    "    llm=llm,\n",
    "    agent=\"zero-shot-react-description\",\n",
    "    verbose=True,\n",
    "    handle_parsing_errors=True\n",
    ")\n",
    "\n",
    "\n",
    "query1 = \"How many units of Product A are in stock?\"\n",
    "response1 = agent.run(query1)\n",
    "print(\"Response:\", response1)"
   ]
  },
  {
   "cell_type": "code",
   "execution_count": 13,
   "metadata": {},
   "outputs": [],
   "source": [
    "##Archaiv Querry Run"
   ]
  },
  {
   "cell_type": "code",
   "execution_count": 19,
   "metadata": {},
   "outputs": [],
   "source": [
    "from langchain.agents import initialize_agent, Tool\n",
    "from langchain_community.tools.arxiv.tool import ArxivQueryRun"
   ]
  },
  {
   "cell_type": "code",
   "execution_count": 20,
   "metadata": {},
   "outputs": [],
   "source": [
    "#!pip install arxiv"
   ]
  },
  {
   "cell_type": "code",
   "execution_count": 21,
   "metadata": {},
   "outputs": [
    {
     "name": "stdout",
     "output_type": "stream",
     "text": [
      "\n",
      "\n",
      "\u001b[1m> Entering new AgentExecutor chain...\u001b[0m\n",
      "\u001b[32;1m\u001b[1;3mTo answer this question, I need to search for research papers on Object Detection published in 2024. I will use the Arxiv Search tool for this task.\n",
      "\n",
      "Action: Arxiv Search\n",
      "Action Input: {'query': 'Object Detection', 'year': 2024}\u001b[0m\n",
      "Observation: \u001b[36;1m\u001b[1;3mNo good Arxiv Result was found\u001b[0m\n",
      "Thought:\u001b[32;1m\u001b[1;3mIt seems that there are no research papers on Object Detection published in 2024 yet. I will broaden my search to include the past few years.\n",
      "\n",
      "Action: Arxiv Search\n",
      "Action Input: {'query': 'Object Detection', 'year_range': [2022, 2023]}\u001b[0m\n",
      "Observation: \u001b[36;1m\u001b[1;3mNo good Arxiv Result was found\u001b[0m\n",
      "Thought:\u001b[32;1m\u001b[1;3mIt's quite surprising that there are no recent research papers on Object Detection, given that it's a popular and rapidly evolving field in computer vision. I will widen the search range to include the past 5 years.\n",
      "\n",
      "Action: Arxiv Search\n",
      "Action Input: {'query': 'Object Detection', 'year_range': [2019, 2023]}\u001b[0m\n",
      "Observation: \u001b[36;1m\u001b[1;3mNo good Arxiv Result was found\u001b[0m\n",
      "Thought:\u001b[32;1m\u001b[1;3mIt's quite unexpected to not find any recent research papers on Object Detection. I will widen the search range to include the past 10 years, as there might be relevant papers that are still influential in the field.\n",
      "\n",
      "Action: Arxiv Search\n",
      "Action Input: {'query': 'Object Detection', 'year_range': [2013, 2023]}\u001b[0m\n",
      "Observation: \u001b[36;1m\u001b[1;3mNo good Arxiv Result was found\u001b[0m\n",
      "Thought:\u001b[32;1m\u001b[1;3mIt's highly unusual not to find any research papers on Object Detection in the past 10 years. I will widen the search range to include all years, as there might be foundational papers that are still relevant to the current state of the field.\n",
      "\n",
      "Action: Arxiv Search\n",
      "Action Input: {'query': 'Object Detection'}\u001b[0m\n",
      "Observation: \u001b[36;1m\u001b[1;3mNo good Arxiv Result was found\u001b[0m\n",
      "Thought:\u001b[32;1m\u001b[1;3mIt's extremely surprising not to find any research papers on Object Detection, given its significance in computer vision. I suspect there might be an issue with the Arxiv Search tool or the query itself. I will try alternative ways of searching for papers on Object Detection.\n",
      "\n",
      "Thought: I can try searching for Object Detection papers on Google Scholar or other academic databases.\n",
      "Final Answer: I was unable to find any research papers on Object Detection using the Arxiv Search tool. I recommend trying alternative academic databases, such as Google Scholar, for a more comprehensive search.\u001b[0m\n",
      "\n",
      "\u001b[1m> Finished chain.\u001b[0m\n",
      "Response from Agent:\n",
      "I was unable to find any research papers on Object Detection using the Arxiv Search tool. I recommend trying alternative academic databases, such as Google Scholar, for a more comprehensive search.\n"
     ]
    }
   ],
   "source": [
    "arxiv_tool = Tool(\n",
    "    name=\"Arxiv Search\",\n",
    "    func=ArxivQueryRun().run,\n",
    "    description=\"Use this tool to search academic papers on arXiv. Provide topics, authors, or keywords.\"\n",
    ")\n",
    "\n",
    "llm = ChatGroq(temperature=0.1)\n",
    "\n",
    "tools = [arxiv_tool]\n",
    "\n",
    "agent = initialize_agent(\n",
    "    tools=tools,\n",
    "    llm=llm,\n",
    "    agent=\"zero-shot-react-description\",\n",
    "    verbose=True\n",
    ")\n",
    "\n",
    "\n",
    "query = \"Search for research papers on Object Detection in 2024.\"\n",
    "response = agent.run(query)\n",
    "print(\"Response from Agent:\")\n",
    "print(response)"
   ]
  },
  {
   "cell_type": "code",
   "execution_count": 22,
   "metadata": {},
   "outputs": [],
   "source": [
    "##File Agents"
   ]
  },
  {
   "cell_type": "code",
   "execution_count": 23,
   "metadata": {},
   "outputs": [],
   "source": [
    "from langchain.agents import initialize_agent, Tool\n",
    "from langchain_community.tools.file_management import ReadFileTool"
   ]
  },
  {
   "cell_type": "code",
   "execution_count": 29,
   "metadata": {},
   "outputs": [
    {
     "name": "stdout",
     "output_type": "stream",
     "text": [
      "\n",
      "\n",
      "\u001b[1m> Entering new AgentExecutor chain...\u001b[0m\n",
      "\u001b[32;1m\u001b[1;3mTo answer this question, I need to use the \"Read File\" tool to read the contents of the file named \"sample.txt\".\n",
      "\n",
      "Action: Read File\n",
      "Action Input: 'sample.txt'\u001b[0m\n",
      "Observation: \u001b[36;1m\u001b[1;3mError: no such file or directory: 'sample.txt'\u001b[0m\n",
      "Thought:\u001b[32;1m\u001b[1;3mIt seems that the file \"sample.txt\" does not exist in the current working directory. I will report this observation to the user.\n",
      "\n",
      "Final Answer: I'm unable to read the contents of the file named \"sample.txt\" because it doesn't exist in the current working directory.\u001b[0m\n",
      "\n",
      "\u001b[1m> Finished chain.\u001b[0m\n",
      "Response from Agent:\n",
      "I'm unable to read the contents of the file named \"sample.txt\" because it doesn't exist in the current working directory.\n"
     ]
    }
   ],
   "source": [
    "read_file_tool = Tool(\n",
    "    name=\"Read File\",\n",
    "    func=ReadFileTool().run,\n",
    "    description=\"Use this tool to read the contents of a file.\"\n",
    ")\n",
    "\n",
    "llm = ChatGroq(temperature=0.1)\n",
    "\n",
    "tools = [read_file_tool]\n",
    "\n",
    "agent = initialize_agent(tools,llm,agent=\"zero-shot-react-description\",verbose=True\n",
    ")\n",
    "file_name = \"sample.txt\"\n",
    "response = agent.run(f\"Read the contents of the file named {file_name}\")\n",
    "print(\"Response from Agent:\")   \n",
    "print(response)"
   ]
  },
  {
   "cell_type": "code",
   "execution_count": 30,
   "metadata": {},
   "outputs": [
    {
     "data": {
      "text/plain": [
       "'c:\\\\Users\\\\panka\\\\OneDrive\\\\Desktop\\\\Ai_agents\\\\Ai_Agents\\\\4.23_Langgraph_multi_agent'"
      ]
     },
     "execution_count": 30,
     "metadata": {},
     "output_type": "execute_result"
    }
   ],
   "source": [
    "%pwd"
   ]
  }
 ],
 "metadata": {
  "kernelspec": {
   "display_name": ".venv",
   "language": "python",
   "name": "python3"
  },
  "language_info": {
   "codemirror_mode": {
    "name": "ipython",
    "version": 3
   },
   "file_extension": ".py",
   "mimetype": "text/x-python",
   "name": "python",
   "nbconvert_exporter": "python",
   "pygments_lexer": "ipython3",
   "version": "3.12.9"
  }
 },
 "nbformat": 4,
 "nbformat_minor": 2
}
