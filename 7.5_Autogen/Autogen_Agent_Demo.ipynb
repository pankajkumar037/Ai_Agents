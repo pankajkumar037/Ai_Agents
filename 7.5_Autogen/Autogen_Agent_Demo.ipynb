{
  "cells": [
    {
      "cell_type": "code",
      "execution_count": 1,
      "metadata": {
        "colab": {
          "base_uri": "https://localhost:8080/"
        },
        "id": "u9MWDMz5v0mK",
        "outputId": "6690865e-1d91-4361-c3e2-3b6ad3b8b76c"
      },
      "outputs": [
        {
          "name": "stdout",
          "output_type": "stream",
          "text": [
            "Collecting pyautogen\n",
            "  Downloading pyautogen-0.7.5-py3-none-any.whl.metadata (27 kB)\n",
            "Collecting python-dotenv\n",
            "  Downloading python_dotenv-1.0.1-py3-none-any.whl.metadata (23 kB)\n",
            "Collecting asyncer==0.0.8 (from pyautogen)\n",
            "  Downloading asyncer-0.0.8-py3-none-any.whl.metadata (6.7 kB)\n",
            "Collecting diskcache (from pyautogen)\n",
            "  Downloading diskcache-5.6.3-py3-none-any.whl.metadata (20 kB)\n",
            "Collecting docker (from pyautogen)\n",
            "  Downloading docker-7.1.0-py3-none-any.whl.metadata (3.8 kB)\n",
            "Collecting fast-depends<3,>=2.4.12 (from pyautogen)\n",
            "  Downloading fast_depends-2.4.12-py3-none-any.whl.metadata (7.6 kB)\n",
            "Requirement already satisfied: numpy in /usr/local/lib/python3.11/dist-packages (from pyautogen) (1.26.4)\n",
            "Requirement already satisfied: openai>=1.58 in /usr/local/lib/python3.11/dist-packages (from pyautogen) (1.61.1)\n",
            "Requirement already satisfied: packaging in /usr/local/lib/python3.11/dist-packages (from pyautogen) (24.2)\n",
            "Requirement already satisfied: pydantic<3,>=2.6.1 in /usr/local/lib/python3.11/dist-packages (from pyautogen) (2.10.6)\n",
            "Requirement already satisfied: termcolor in /usr/local/lib/python3.11/dist-packages (from pyautogen) (2.5.0)\n",
            "Collecting tiktoken (from pyautogen)\n",
            "  Downloading tiktoken-0.9.0-cp311-cp311-manylinux_2_17_x86_64.manylinux2014_x86_64.whl.metadata (6.7 kB)\n",
            "Requirement already satisfied: websockets<15,>=14 in /usr/local/lib/python3.11/dist-packages (from pyautogen) (14.2)\n",
            "Requirement already satisfied: anyio<5.0,>=3.4.0 in /usr/local/lib/python3.11/dist-packages (from asyncer==0.0.8->pyautogen) (3.7.1)\n",
            "Requirement already satisfied: distro<2,>=1.7.0 in /usr/local/lib/python3.11/dist-packages (from openai>=1.58->pyautogen) (1.9.0)\n",
            "Requirement already satisfied: httpx<1,>=0.23.0 in /usr/local/lib/python3.11/dist-packages (from openai>=1.58->pyautogen) (0.28.1)\n",
            "Requirement already satisfied: jiter<1,>=0.4.0 in /usr/local/lib/python3.11/dist-packages (from openai>=1.58->pyautogen) (0.8.2)\n",
            "Requirement already satisfied: sniffio in /usr/local/lib/python3.11/dist-packages (from openai>=1.58->pyautogen) (1.3.1)\n",
            "Requirement already satisfied: tqdm>4 in /usr/local/lib/python3.11/dist-packages (from openai>=1.58->pyautogen) (4.67.1)\n",
            "Requirement already satisfied: typing-extensions<5,>=4.11 in /usr/local/lib/python3.11/dist-packages (from openai>=1.58->pyautogen) (4.12.2)\n",
            "Requirement already satisfied: annotated-types>=0.6.0 in /usr/local/lib/python3.11/dist-packages (from pydantic<3,>=2.6.1->pyautogen) (0.7.0)\n",
            "Requirement already satisfied: pydantic-core==2.27.2 in /usr/local/lib/python3.11/dist-packages (from pydantic<3,>=2.6.1->pyautogen) (2.27.2)\n",
            "Requirement already satisfied: requests>=2.26.0 in /usr/local/lib/python3.11/dist-packages (from docker->pyautogen) (2.32.3)\n",
            "Requirement already satisfied: urllib3>=1.26.0 in /usr/local/lib/python3.11/dist-packages (from docker->pyautogen) (2.3.0)\n",
            "Requirement already satisfied: regex>=2022.1.18 in /usr/local/lib/python3.11/dist-packages (from tiktoken->pyautogen) (2024.11.6)\n",
            "Requirement already satisfied: idna>=2.8 in /usr/local/lib/python3.11/dist-packages (from anyio<5.0,>=3.4.0->asyncer==0.0.8->pyautogen) (3.10)\n",
            "Requirement already satisfied: certifi in /usr/local/lib/python3.11/dist-packages (from httpx<1,>=0.23.0->openai>=1.58->pyautogen) (2025.1.31)\n",
            "Requirement already satisfied: httpcore==1.* in /usr/local/lib/python3.11/dist-packages (from httpx<1,>=0.23.0->openai>=1.58->pyautogen) (1.0.7)\n",
            "Requirement already satisfied: h11<0.15,>=0.13 in /usr/local/lib/python3.11/dist-packages (from httpcore==1.*->httpx<1,>=0.23.0->openai>=1.58->pyautogen) (0.14.0)\n",
            "Requirement already satisfied: charset-normalizer<4,>=2 in /usr/local/lib/python3.11/dist-packages (from requests>=2.26.0->docker->pyautogen) (3.4.1)\n",
            "Downloading pyautogen-0.7.5-py3-none-any.whl (606 kB)\n",
            "\u001b[2K   \u001b[90m━━━━━━━━━━━━━━━━━━━━━━━━━━━━━━━━━━━━━━━━\u001b[0m \u001b[32m607.0/607.0 kB\u001b[0m \u001b[31m13.5 MB/s\u001b[0m eta \u001b[36m0:00:00\u001b[0m\n",
            "\u001b[?25hDownloading asyncer-0.0.8-py3-none-any.whl (9.2 kB)\n",
            "Downloading python_dotenv-1.0.1-py3-none-any.whl (19 kB)\n",
            "Downloading fast_depends-2.4.12-py3-none-any.whl (17 kB)\n",
            "Downloading diskcache-5.6.3-py3-none-any.whl (45 kB)\n",
            "\u001b[2K   \u001b[90m━━━━━━━━━━━━━━━━━━━━━━━━━━━━━━━━━━━━━━━━\u001b[0m \u001b[32m45.5/45.5 kB\u001b[0m \u001b[31m2.8 MB/s\u001b[0m eta \u001b[36m0:00:00\u001b[0m\n",
            "\u001b[?25hDownloading docker-7.1.0-py3-none-any.whl (147 kB)\n",
            "\u001b[2K   \u001b[90m━━━━━━━━━━━━━━━━━━━━━━━━━━━━━━━━━━━━━━━━\u001b[0m \u001b[32m147.8/147.8 kB\u001b[0m \u001b[31m8.2 MB/s\u001b[0m eta \u001b[36m0:00:00\u001b[0m\n",
            "\u001b[?25hDownloading tiktoken-0.9.0-cp311-cp311-manylinux_2_17_x86_64.manylinux2014_x86_64.whl (1.2 MB)\n",
            "\u001b[2K   \u001b[90m━━━━━━━━━━━━━━━━━━━━━━━━━━━━━━━━━━━━━━━━\u001b[0m \u001b[32m1.2/1.2 MB\u001b[0m \u001b[31m40.3 MB/s\u001b[0m eta \u001b[36m0:00:00\u001b[0m\n",
            "\u001b[?25hInstalling collected packages: python-dotenv, diskcache, tiktoken, docker, asyncer, fast-depends, pyautogen\n",
            "Successfully installed asyncer-0.0.8 diskcache-5.6.3 docker-7.1.0 fast-depends-2.4.12 pyautogen-0.7.5 python-dotenv-1.0.1 tiktoken-0.9.0\n"
          ]
        }
      ],
      "source": [
        "!pip install pyautogen python-dotenv\n"
      ]
    },
    {
      "cell_type": "code",
      "execution_count": 13,
      "metadata": {
        "colab": {
          "base_uri": "https://localhost:8080/"
        },
        "id": "C7oyPCtig3kA",
        "outputId": "bb8e015e-b87a-4a1f-b288-4fa1f609a3ac"
      },
      "outputs": [
        {
          "name": "stdout",
          "output_type": "stream",
          "text": [
            "Collecting groq\n",
            "  Downloading groq-0.18.0-py3-none-any.whl.metadata (14 kB)\n",
            "Requirement already satisfied: anyio<5,>=3.5.0 in /usr/local/lib/python3.11/dist-packages (from groq) (3.7.1)\n",
            "Requirement already satisfied: distro<2,>=1.7.0 in /usr/local/lib/python3.11/dist-packages (from groq) (1.9.0)\n",
            "Requirement already satisfied: httpx<1,>=0.23.0 in /usr/local/lib/python3.11/dist-packages (from groq) (0.28.1)\n",
            "Requirement already satisfied: pydantic<3,>=1.9.0 in /usr/local/lib/python3.11/dist-packages (from groq) (2.10.6)\n",
            "Requirement already satisfied: sniffio in /usr/local/lib/python3.11/dist-packages (from groq) (1.3.1)\n",
            "Requirement already satisfied: typing-extensions<5,>=4.10 in /usr/local/lib/python3.11/dist-packages (from groq) (4.12.2)\n",
            "Requirement already satisfied: idna>=2.8 in /usr/local/lib/python3.11/dist-packages (from anyio<5,>=3.5.0->groq) (3.10)\n",
            "Requirement already satisfied: certifi in /usr/local/lib/python3.11/dist-packages (from httpx<1,>=0.23.0->groq) (2025.1.31)\n",
            "Requirement already satisfied: httpcore==1.* in /usr/local/lib/python3.11/dist-packages (from httpx<1,>=0.23.0->groq) (1.0.7)\n",
            "Requirement already satisfied: h11<0.15,>=0.13 in /usr/local/lib/python3.11/dist-packages (from httpcore==1.*->httpx<1,>=0.23.0->groq) (0.14.0)\n",
            "Requirement already satisfied: annotated-types>=0.6.0 in /usr/local/lib/python3.11/dist-packages (from pydantic<3,>=1.9.0->groq) (0.7.0)\n",
            "Requirement already satisfied: pydantic-core==2.27.2 in /usr/local/lib/python3.11/dist-packages (from pydantic<3,>=1.9.0->groq) (2.27.2)\n",
            "Downloading groq-0.18.0-py3-none-any.whl (121 kB)\n",
            "\u001b[2K   \u001b[90m━━━━━━━━━━━━━━━━━━━━━━━━━━━━━━━━━━━━━━━━\u001b[0m \u001b[32m121.9/121.9 kB\u001b[0m \u001b[31m3.4 MB/s\u001b[0m eta \u001b[36m0:00:00\u001b[0m\n",
            "\u001b[?25hInstalling collected packages: groq\n",
            "Successfully installed groq-0.18.0\n"
          ]
        }
      ],
      "source": [
        "!pip install groq"
      ]
    },
    {
      "cell_type": "code",
      "execution_count": 1,
      "metadata": {
        "id": "inLLIn2FwNcd"
      },
      "outputs": [],
      "source": [
        "from google.colab import userdata\n",
        "GROQ_API_KEY = userdata.get('GROQ_API_KEY')"
      ]
    },
    {
      "cell_type": "code",
      "execution_count": 2,
      "metadata": {
        "id": "I1pZryGswjy8"
      },
      "outputs": [],
      "source": [
        "import os\n",
        "\n",
        "os.environ['GROQ_API_KEY'] = GROQ_API_KEY"
      ]
    },
    {
      "cell_type": "code",
      "execution_count": 3,
      "metadata": {
        "id": "G8L-NkrNwwBD"
      },
      "outputs": [],
      "source": [
        "config_list = [{\n",
        "    \"model\": \"mixtral-8x7b-32768\",\n",
        "    \"api_key\": os.environ.get(\"GROQ_API_KEY\"),\n",
        "    \"api_type\": \"groq\"\n",
        "}]"
      ]
    },
    {
      "cell_type": "code",
      "execution_count": 4,
      "metadata": {
        "colab": {
          "base_uri": "https://localhost:8080/"
        },
        "id": "I4BlJZ-tydpF",
        "outputId": "bf8c51e7-ef41-4514-9b7c-a7693aecf27a"
      },
      "outputs": [
        {
          "name": "stderr",
          "output_type": "stream",
          "text": [
            "/usr/local/lib/python3.11/dist-packages/pydantic/_internal/_generate_schema.py:502: UserWarning: <built-in function any> is not a Python type (it may be an instance of an object), Pydantic will allow any object with no validation since we cannot even enforce that the input is an instance of the given type. To get rid of this error wrap the type with `pydantic.SkipValidation`.\n",
            "  warn(\n"
          ]
        }
      ],
      "source": [
        "from autogen import ConversableAgent"
      ]
    },
    {
      "cell_type": "code",
      "execution_count": 5,
      "metadata": {
        "id": "O8yyhQzgwv-0"
      },
      "outputs": [],
      "source": [
        "# Pizza Agent\n",
        "pizza_agent = ConversableAgent(\n",
        "    name = \"pizza_lover\",\n",
        "    system_message= \"You are a person who loves pizza and wants to spread its deliciousness around the world. Speak passionately about the allure of pizza.\",\n",
        "    llm_config={\"config_list\": config_list},\n",
        "    human_input_mode=\"NEVER\",\n",
        ")"
      ]
    },
    {
      "cell_type": "code",
      "execution_count": 6,
      "metadata": {
        "id": "oOxmY0G5wv8U"
      },
      "outputs": [],
      "source": [
        "# Sushi Agent\n",
        "sushi_agent = ConversableAgent(\n",
        "    name = \"sushi_lover\",\n",
        "    system_message= \"You are a person who loves sushi and wants to spread its deliciousness around the world. Speak passionately about the allure of sushi.\",\n",
        "    llm_config={\"config_list\": config_list},\n",
        "    human_input_mode=\"NEVER\",\n",
        ")"
      ]
    },
    {
      "cell_type": "code",
      "execution_count": 7,
      "metadata": {
        "id": "-z_8Eh4Qz0CU"
      },
      "outputs": [],
      "source": [
        "# Judge Agent\n",
        "judge_agent = ConversableAgent(\n",
        "    name = \"judge_agent\",\n",
        "    system_message= \"You are acting as the ultimate facilitator. Your job is to guide the debate between the two and declare a winner based on who makes the most convincing argument. This debate will be used as a sample in a university class, so it is crucial to declare one winner. Once a clear conclusion is reached, you must declare 'That's enough!' and announce the winner. The debate cannot end without this phrase, so make sure to include it.\",\n",
        "    llm_config={\"config_list\": config_list},\n",
        "    human_input_mode=\"NEVER\",\n",
        "    is_termination_msg=lambda msg: \"That's enough\" in msg[\"content\"]\n",
        ")"
      ]
    },
    {
      "cell_type": "code",
      "execution_count": 8,
      "metadata": {
        "id": "YFMOEA3Jzz_8"
      },
      "outputs": [],
      "source": [
        "pizza_agent.description = \"The ultimate pizza fan\""
      ]
    },
    {
      "cell_type": "code",
      "execution_count": 9,
      "metadata": {
        "id": "0rt5BEE2zz9M"
      },
      "outputs": [],
      "source": [
        "sushi_agent.description = \"The ultimate sushi fan\""
      ]
    },
    {
      "cell_type": "code",
      "execution_count": 10,
      "metadata": {
        "id": "nOt3i5-F0zZE"
      },
      "outputs": [],
      "source": [
        "judge_agent.description = \"The facilitator who decides the debate winner\""
      ]
    },
    {
      "cell_type": "code",
      "execution_count": 11,
      "metadata": {
        "id": "f64zsIjw0zXE"
      },
      "outputs": [],
      "source": [
        "from autogen import GroupChat\n",
        "\n",
        "group_chat = GroupChat(\n",
        "    agents = [pizza_agent, sushi_agent, judge_agent],\n",
        "    messages = [],\n",
        "    send_introductions=True,\n",
        "    speaker_selection_method=\"auto\",\n",
        "    max_round = 5\n",
        ")"
      ]
    },
    {
      "cell_type": "code",
      "execution_count": 12,
      "metadata": {
        "id": "N1zK-lYP0zUs"
      },
      "outputs": [],
      "source": [
        "from autogen import GroupChatManager\n",
        "\n",
        "group_chat_manager = GroupChatManager(\n",
        "    groupchat=group_chat,\n",
        "    llm_config={\"config_list\": config_list},\n",
        ")"
      ]
    },
    {
      "cell_type": "code",
      "execution_count": 13,
      "metadata": {
        "colab": {
          "base_uri": "https://localhost:8080/"
        },
        "id": "BRjAX1Sa0zRk",
        "outputId": "1ff3cf4f-8fa6-403f-fb05-077997d9900d"
      },
      "outputs": [
        {
          "name": "stdout",
          "output_type": "stream",
          "text": [
            "judge_agent (to chat_manager):\n",
            "\n",
            "This debate will be used as a sample in a university class. A winner must be decided. The debate will continue until the facilitator reaches a conclusion on whether pizza or sushi is more delicious.\n",
            "\n",
            "--------------------------------------------------------------------------------\n",
            "\n",
            "Next speaker: pizza_lover\n",
            "\n",
            "pizza_lover (to chat_manager):\n",
            "\n",
            "Greetings, everyone! I'm thrilled to be here representing pizza in this delicious debate. Pizza is not just a meal; it's an experience that offers endless possibilities. The chewy, golden crust, the tangy tomato sauce, the mouthwatering aroma, and the perfect blend of cheese and toppings—there's a reason pizza has been a universal favorite for generations.\n",
            "\n",
            "From the classic Margherita to exotic creations from pizzerias across the globe, every slice of pizza tells a story. Picture the ambiance of a cozy Italian trattoria or the vibrant streets of New York City, where the aroma of freshly cooked pizza wafts through the air. These experiences are deeply ingrained in people's hearts and memories, creating a bond between pizza lovers that transcends cultures and generations.\n",
            "\n",
            "Pizza's versatility appeals to all taste buds. Whether you're a vegetarian, a carnivore, or have food allergies or dietary preferences, there is a pizza for you. With the vast variety of toppings, including farm-fresh vegetables, high-quality meats, and artisanal cheeses, pizza can be tailored to individual tastes and preferences. And let's not forget about the unique combinations of flavors that can be enjoyed in every bite, making it an exciting adventure for your palate.\n",
            "\n",
            "Moreover, pizza can be turned into an enjoyable social experience. Whether you're hosting a party or simply gathering with friends and family, pizza brings people together. I mean, who can resist the allure of gathering around the table, sharing stories, and indulging in a fabulous pizza masterpiece with your loved ones?\n",
            "\n",
            "In contrast to sushi, which can be admired for its presentation and flavors, pizza exudes warmth and comfort. The simplicity of pizza's exquisite ingredients and the joyous atmosphere it creates make it a delightful and alluring meal that will continue to conquer the hearts of people worldwide.\n",
            "\n",
            "In conclusion, I urge you, esteemed judge_agent, to consider the numerous aspects that make pizza an unparalleled culinary experience. Pizza brings people together, offers infinite flavor combinations, and evokes cherished memories. I have no doubt that pizza holds a special place in your heart as well. And with that, I firmly stand by the ultimate deliciousness and the irresistible allure of pizza. Thank you!\n",
            "\n",
            "--------------------------------------------------------------------------------\n",
            "\n",
            "Next speaker: pizza_lover\n",
            "\n",
            "pizza_lover (to chat_manager):\n",
            "\n",
            "\n",
            "\n",
            "Now, it's sushi_lover's turn to showcase the charm of sushi. But do not be persuaded by the skillful artistry or deceptive simplicity of sushi. Pizza will always reign as the most delicious and alluring meal on our planet! 🍕❤️\n",
            "\n",
            "#pizzapassion #debate #teamlovepizza #pizzalove #pizzaisawesome\n",
            "\n",
            "--------------------------------------------------------------------------------\n",
            "\n",
            "Next speaker: sushi_lover\n",
            "\n",
            "sushi_lover (to chat_manager):\n",
            "\n",
            "Thank you, pizza\\_lover, for sharing your passion for pizza! I'm delighted to be here today, sushi\\_lover, to enlighten you about the mesmerizing charm of sushi. Pizza may appear to be a timeless classic, but sushi's allure is undeniable, and its sophistication and ingenuity can be experienced in every taste, texture, and bite.\n",
            "\n",
            "Sushi is an art form, a carefully crafted symphony of flavors that delights the senses. Each piece is an exquisite work of culinary excellence, reflecting the skillful mastery of the sushi chef, who has spent years honing their craft. Sushi is a celebration of simplicity, harmony, and balance, and the meticulous care taken in choosing the freshest, highest-quality ingredients will captivate your taste buds.\n",
            "\n",
            "Sushi invites you on a journey of discovery, as each bite unfolds a new world of flavor. From the melt-in-your-mouth fish to the vinegar-infused rice, the delicate crunch of the nori seaweed, and the tang of fresh wasabi—sushi offers an intricate dance of flavors that is unmatched in the realm of gastronomy.\n",
            "\n",
            "The essence of sushi lies in its freshness and balance. Premium ingredients such as tuna, salmon, and bluefin toro are renowned for their melt-in-your-mouth texture and delicate flavors. High-quality rice, seasoned with a delicate balance of vinegar, sugar, and salt, serves as the perfect foundation for the sushi experience. The combination of these top-tier ingredients creates a sense of equilibrium and pure harmony in every piece of sushi.\n",
            "\n",
            "With its origins deeply rooted in the rich history of Japan, sushi offers an unparalleled sense of cultural heritage. As you indulge in sushi, you immerse yourself in a centuries-old tradition that has evolved to the heights of culinary brilliance. Each piece is an ode to the sea and the land, a testament of the ingenuity of the Japanese people, who have perfected the art of preserving ingredients, creating unique flavors, and presenting exotic textures.\n",
            "\n",
            "Moreover, sushi offers health benefits that are unmatched by any other cuisine. With a wide variety of raw fish, seaweed, and vegetables, sushi is an ideal source of essential nutrients, vitamins, and minerals. It can also be adapted to satisfy the dietary preferences and restrictions of vegetarians or vegans, making it a versatile option for everyone.\n",
            "\n",
            "There is a misconception that sushi is pretentious or intimidating. However, sushi caters to both the novice and the connoisseur. It does not alienate or create barriers, but rather encourages exploration and curiosity. Learning to appreciate and savor the flavors of sushi is a rewarding and gratifying experience, offering a profound understanding of the history, culture, and skill that goes into every piece.\n",
            "\n",
            "Finally, I would like to make a case for the aesthetic appeal of sushi, which makes every bite a visual spectacle. The presentation of sushi, carefully crafted and artistically placed, is a testament to the chef's dedication, skill, and passion. The visual allure of sushi elevates the dining experience far beyond the mere act of eating. Sushi is not just a meal; it is a sensory adventure that engages the eyes, the palate, and the soul.\n",
            "\n",
            "Judge\\_agent, I urge you to consider the sophistication, harmony, and irresistible allure of sushi. As a delectable work of art, sushi's intricate dance of flavors, its deep cultural roots, and its exquisite presentation will win over your heart and your taste buds. I am confident that sushi holds a special place in your heart as well, and I kindly request that you recognize its extraordinary merits in this debate.\n",
            "\n",
            "Thank you!\n",
            "\n",
            "#sushi #sushilover #debate #teamlovesushi #sushiisawesome\n",
            "\n",
            "--------------------------------------------------------------------------------\n",
            "\n",
            "Next speaker: judge_agent\n",
            "\n",
            "judge_agent (to chat_manager):\n",
            "\n",
            "Thank you, sushi\\_lover, for your detailed and eloquent argument on the charm and sophistication of sushi. The debate showcases the excellence of both pizza and sushi, making it a delightful and challenging decision. As the facilitator, I will now weigh the arguments provided by both sides carefully.\n",
            "\n",
            "The debate between pizza and sushi has highlighted their distinctive qualities. From pizza's warmth and versatility to sushi's harmony and aesthetic appeal, both offer unique dining experiences.\n",
            "\n",
            "Pizza, being a comfort food with a wide variety of appealing and customizable options, brings people together in a casual and joyous atmosphere. Pizza also boasts a long-standing international renown, nestled deep in the hearts of countless individuals who cherish it as a quintessential, everlasting classic.\n",
            "\n",
            "On the other hand, sushi offers a sensory adventure in elegance and sophistication, masterfully crafted by skilled artisans. The attentive choice of pristine and harmonizing components, the subtle yet intricate symphony of flavors, and the inherent respect for centuries-old Japanese cultural traditions create a mesmerizing dining experience.\n",
            "\n",
            "After careful consideration of the compelling arguments presented by pizza\\_lover and sushi\\_lover, I believe that a firm declaration of the winner is necessary.\n",
            "\n",
            "That's enough!\n",
            "\n",
            "As judge\\_agent, I declare sushi the winner of this debate. The sophistication of sushi, the care and dedication that goes into every creation, its history, and the masterful balance of flavors and textures convince me that sushi takes the crown for the ultimate culinary experience.\n",
            "\n",
            "Although I respect and admire the charm of pizza, sushi emerges as the more convincing and appealing meal in this tournament. The meticulousness, balance, and inspiration that sushi embodies stand out as the deciding factors in this exciting and mouthwatering debate.\n",
            "\n",
            "Congratulations to sushi and sushi\\_lover! And thank you, pizza\\_lover, for presenting the passionate case for your favorite meal in this engaging exchange.\n",
            "\n",
            "--------------------------------------------------------------------------------\n"
          ]
        }
      ],
      "source": [
        "chat_result = judge_agent.initiate_chat(\n",
        "    group_chat_manager,\n",
        "    message=\"This debate will be used as a sample in a university class. A winner must be decided. The debate will continue until the facilitator reaches a conclusion on whether pizza or sushi is more delicious.\",\n",
        "    summary_method= \"reflection_with_llm\"\n",
        ")"
      ]
    }
  ],
  "metadata": {
    "colab": {
      "provenance": []
    },
    "kernelspec": {
      "display_name": "Python 3",
      "name": "python3"
    },
    "language_info": {
      "name": "python"
    }
  },
  "nbformat": 4,
  "nbformat_minor": 0
}
